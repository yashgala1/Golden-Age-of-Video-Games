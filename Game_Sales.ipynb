{
 "cells": [
  {
   "metadata": {
    "dc": {
     "key": "7"
    },
    "deletable": false,
    "editable": false,
    "run_control": {
     "frozen": true
    },
    "tags": [
     "context"
    ]
   },
   "cell_type": "markdown",
   "source": [
    "## Finding out the top ten best-selling video games\n",
    "\n",
    "<p>Our objective is to determine the period of time that is commonly referred to as the \"Golden Age of Video Games\". We will define this period as the time when the greatest number of critically acclaimed and commercially successful games were released</p>\n",
    "<p>This project aims to investigate the 400 most popular video games developed from 1977 to 2020, examining a dataset that includes sales data along with reviews by critics and users. This dataset was taken from <a href=\"https://www.kaggle.com/holmjason2/videogamedata\">Kaggle</a>. </p>\n",
    "<h3 id=\"game_sales\"><code>game_sales</code></h3>\n",
    "<table>\n",
    "<thead>\n",
    "<tr>\n",
    "<th style=\"text-align:left;\">column</th>\n",
    "<th>type</th>\n",
    "<th>meaning</th>\n",
    "</tr>\n",
    "</thead>\n",
    "<tbody>\n",
    "<tr>\n",
    "<td style=\"text-align:left;\"><code>game</code></td>\n",
    "<td>varchar</td>\n",
    "<td>Name of the video game</td>\n",
    "</tr>\n",
    "<tr>\n",
    "<td style=\"text-align:left;\"><code>platform</code></td>\n",
    "<td>varchar</td>\n",
    "<td>Gaming platform</td>\n",
    "</tr>\n",
    "<tr>\n",
    "<td style=\"text-align:left;\"><code>publisher</code></td>\n",
    "<td>varchar</td>\n",
    "<td>Game publisher</td>\n",
    "</tr>\n",
    "<tr>\n",
    "<td style=\"text-align:left;\"><code>developer</code></td>\n",
    "<td>varchar</td>\n",
    "<td>Game developer</td>\n",
    "</tr>\n",
    "<tr>\n",
    "<td style=\"text-align:left;\"><code>games_sold</code></td>\n",
    "<td>float</td>\n",
    "<td>Number of copies sold (millions)</td>\n",
    "</tr>\n",
    "<tr>\n",
    "<td style=\"text-align:left;\"><code>year</code></td>\n",
    "<td>int</td>\n",
    "<td>Release year</td>\n",
    "</tr>\n",
    "</tbody>\n",
    "</table>\n",
    "<h3 id=\"reviews\"><code>reviews</code></h3>\n",
    "<table>\n",
    "<thead>\n",
    "<tr>\n",
    "<th style=\"text-align:left;\">column</th>\n",
    "<th>type</th>\n",
    "<th>meaning</th>\n",
    "</tr>\n",
    "</thead>\n",
    "<tbody>\n",
    "<tr>\n",
    "<td style=\"text-align:left;\"><code>game</code></td>\n",
    "<td>varchar</td>\n",
    "<td>Name of the video game</td>\n",
    "</tr>\n",
    "<tr>\n",
    "<td style=\"text-align:left;\"><code>critic_score</code></td>\n",
    "<td>float</td>\n",
    "<td>Critic score according to Metacritic</td>\n",
    "</tr>\n",
    "<tr>\n",
    "<td style=\"text-align:left;\"><code>user_score</code></td>\n",
    "<td>float</td>\n",
    "<td>User score according to Metacritic</td>\n",
    "</tr>\n",
    "</tbody>\n",
    "</table>"
   ]
  },
  {
   "metadata": {
    "dc": {
     "key": "7"
    },
    "tags": [
     "sample_code"
    ],
    "trusted": true,
    "pycharm": {
     "is_executing": true
    }
   },
   "cell_type": "code",
   "source": [
    "%%sql\n",
    "postgresql:///games\n",
    "\n",
    "-- Select all information and order the results from best-selling game down to tenth best-selling\n",
    "\n",
    "SELECT *\n",
    "FROM game_sales\n",
    "ORDER BY games_sold DESC\n",
    "LIMIT 10;\n"
   ],
   "execution_count": null,
   "outputs": []
  },
  {
   "metadata": {
    "dc": {
     "key": "14"
    },
    "deletable": false,
    "editable": false,
    "run_control": {
     "frozen": true
    },
    "tags": [
     "context"
    ]
   },
   "cell_type": "markdown",
   "source": [
    "## Missing review scores\n",
    "<p>The best-selling video games were released between 1985 to 2017! </p>\n",
    "<p>First, it's important to explore the limitations of our database. One big shortcoming is that there is not any reviews data for some of the games on the game_sales table. </p>"
   ]
  },
  {
   "metadata": {
    "dc": {
     "key": "14"
    },
    "tags": [
     "sample_code"
    ],
    "trusted": true
   },
   "cell_type": "code",
   "source": [
    "%%sql \n",
    "\n",
    "SELECT COUNT(game_sales.game)\n",
    "FROM game_sales\n",
    "LEFT JOIN reviews\n",
    "ON game_sales.game = reviews.game\n",
    "WHERE critic_score IS NULL AND\n",
    "user_score IS NULL;\n"
   ],
   "execution_count": 4,
   "outputs": [
    {
     "output_type": "stream",
     "text": " * postgresql:///games\n1 rows affected.\n",
     "name": "stdout"
    },
    {
     "output_type": "execute_result",
     "execution_count": 4,
     "data": {
      "text/plain": "[(31,)]",
      "text/html": "<table>\n    <thead>\n        <tr>\n            <th>count</th>\n        </tr>\n    </thead>\n    <tbody>\n        <tr>\n            <td>31</td>\n        </tr>\n    </tbody>\n</table>"
     },
     "metadata": {}
    }
   ]
  },
  {
   "metadata": {
    "dc": {
     "key": "21"
    },
    "deletable": false,
    "editable": false,
    "run_control": {
     "frozen": true
    },
    "tags": [
     "context"
    ]
   },
   "cell_type": "markdown",
   "source": [
    "## Years that video game critics loved\n",
    "<p>It looks like a little less than ten percent of the games on the game_sales table don't have any reviews data. </p>\n",
    "<p>There are lots of ways to measure the best years for video games! Let's start with what the critics think. </p>"
   ]
  },
  {
   "metadata": {
    "dc": {
     "key": "21"
    },
    "tags": [
     "sample_code"
    ],
    "scrolled": true,
    "trusted": true
   },
   "cell_type": "code",
   "source": [
    "%%sql\n",
    "\n",
    "SELECT g.year,\n",
    "ROUND(AVG(critic_score),2) AS avg_critic_score\n",
    "FROM game_sales AS g\n",
    "INNER JOIN reviews AS r\n",
    "ON g.game = r.game\n",
    "GROUP BY year\n",
    "ORDER BY avg_critic_score DESC\n",
    "LIMIT 10;"
   ],
   "execution_count": 6,
   "outputs": [
    {
     "output_type": "stream",
     "text": " * postgresql:///games\n10 rows affected.\n",
     "name": "stdout"
    },
    {
     "output_type": "execute_result",
     "execution_count": 6,
     "data": {
      "text/plain": "[(1990, Decimal('9.80')),\n (1992, Decimal('9.67')),\n (1998, Decimal('9.32')),\n (2020, Decimal('9.20')),\n (1993, Decimal('9.10')),\n (1995, Decimal('9.07')),\n (2004, Decimal('9.03')),\n (1982, Decimal('9.00')),\n (2002, Decimal('8.99')),\n (1999, Decimal('8.93'))]",
      "text/html": "<table>\n    <thead>\n        <tr>\n            <th>year</th>\n            <th>avg_critic_score</th>\n        </tr>\n    </thead>\n    <tbody>\n        <tr>\n            <td>1990</td>\n            <td>9.80</td>\n        </tr>\n        <tr>\n            <td>1992</td>\n            <td>9.67</td>\n        </tr>\n        <tr>\n            <td>1998</td>\n            <td>9.32</td>\n        </tr>\n        <tr>\n            <td>2020</td>\n            <td>9.20</td>\n        </tr>\n        <tr>\n            <td>1993</td>\n            <td>9.10</td>\n        </tr>\n        <tr>\n            <td>1995</td>\n            <td>9.07</td>\n        </tr>\n        <tr>\n            <td>2004</td>\n            <td>9.03</td>\n        </tr>\n        <tr>\n            <td>1982</td>\n            <td>9.00</td>\n        </tr>\n        <tr>\n            <td>2002</td>\n            <td>8.99</td>\n        </tr>\n        <tr>\n            <td>1999</td>\n            <td>8.93</td>\n        </tr>\n    </tbody>\n</table>"
     },
     "metadata": {}
    }
   ]
  },
  {
   "metadata": {
    "dc": {
     "key": "28"
    },
    "deletable": false,
    "editable": false,
    "run_control": {
     "frozen": true
    },
    "tags": [
     "context"
    ]
   },
   "cell_type": "markdown",
   "source": [
    "## Was 1982 really that great?\n",
    "\n",
    "<p>The range of great years according to critic reviews goes from 1982 until 2020.</p>\n",
    "<p>However, The value for 1982 looks especially fishy. Maybe there weren't a lot of video games in our dataset that were released in certain years. </p>\n",
    "<p>Let's update our query and find out whether 1982 really was such a great year for video games.</p>"
   ]
  },
  {
   "metadata": {
    "dc": {
     "key": "28"
    },
    "tags": [
     "sample_code"
    ],
    "trusted": true
   },
   "cell_type": "code",
   "source": [
    "%%sql \n",
    "\n",
    "SELECT g.year,\n",
    "ROUND(AVG(critic_score),2) AS avg_critic_score,\n",
    "COUNT (g.game) AS num_games\n",
    "FROM game_sales AS g\n",
    "INNER JOIN reviews AS r\n",
    "ON g.game = r.game\n",
    "GROUP BY year\n",
    "HAVING COUNT(g.game) > 4\n",
    "ORDER BY avg_critic_score DESC\n",
    "LIMIT 10;"
   ],
   "execution_count": 8,
   "outputs": [
    {
     "output_type": "stream",
     "text": " * postgresql:///games\n10 rows affected.\n",
     "name": "stdout"
    },
    {
     "output_type": "execute_result",
     "execution_count": 8,
     "data": {
      "text/plain": "[(1998, Decimal('9.32'), 10),\n (2004, Decimal('9.03'), 11),\n (2002, Decimal('8.99'), 9),\n (1999, Decimal('8.93'), 11),\n (2001, Decimal('8.82'), 13),\n (2011, Decimal('8.76'), 26),\n (2016, Decimal('8.67'), 13),\n (2013, Decimal('8.66'), 18),\n (2008, Decimal('8.63'), 20),\n (2012, Decimal('8.62'), 12)]",
      "text/html": "<table>\n    <thead>\n        <tr>\n            <th>year</th>\n            <th>avg_critic_score</th>\n            <th>num_games</th>\n        </tr>\n    </thead>\n    <tbody>\n        <tr>\n            <td>1998</td>\n            <td>9.32</td>\n            <td>10</td>\n        </tr>\n        <tr>\n            <td>2004</td>\n            <td>9.03</td>\n            <td>11</td>\n        </tr>\n        <tr>\n            <td>2002</td>\n            <td>8.99</td>\n            <td>9</td>\n        </tr>\n        <tr>\n            <td>1999</td>\n            <td>8.93</td>\n            <td>11</td>\n        </tr>\n        <tr>\n            <td>2001</td>\n            <td>8.82</td>\n            <td>13</td>\n        </tr>\n        <tr>\n            <td>2011</td>\n            <td>8.76</td>\n            <td>26</td>\n        </tr>\n        <tr>\n            <td>2016</td>\n            <td>8.67</td>\n            <td>13</td>\n        </tr>\n        <tr>\n            <td>2013</td>\n            <td>8.66</td>\n            <td>18</td>\n        </tr>\n        <tr>\n            <td>2008</td>\n            <td>8.63</td>\n            <td>20</td>\n        </tr>\n        <tr>\n            <td>2012</td>\n            <td>8.62</td>\n            <td>12</td>\n        </tr>\n    </tbody>\n</table>"
     },
     "metadata": {}
    }
   ]
  },
  {
   "metadata": {
    "dc": {
     "key": "35"
    },
    "deletable": false,
    "editable": false,
    "run_control": {
     "frozen": true
    },
    "tags": [
     "context"
    ]
   },
   "cell_type": "markdown",
   "source": [
    "## Years that dropped off the critics' favorites list\n",
    "<p> The num_games column convinces us that our new list of the critics' top games reflects years that had quite a few well-reviewed games rather than just one or two hits. But which years dropped off the list due to having four or fewer reviewed games?</p>\n",
    "<h3 id=\"top_critic_years\"><code>top_critic_years</code></h3>\n",
    "<table>\n",
    "<thead>\n",
    "<tr>\n",
    "<th style=\"text-align:left;\">column</th>\n",
    "<th>type</th>\n",
    "<th>meaning</th>\n",
    "</tr>\n",
    "</thead>\n",
    "<tbody>\n",
    "<tr>\n",
    "<td style=\"text-align:left;\"><code>year</code></td>\n",
    "<td>int</td>\n",
    "<td>Year of video game release</td>\n",
    "</tr>\n",
    "<tr>\n",
    "<td style=\"text-align:left;\"><code>avg_critic_score</code></td>\n",
    "<td>float</td>\n",
    "<td>Average of all critic scores for games released in that year</td>\n",
    "</tr>\n",
    "</tbody>\n",
    "</table>\n",
    "<h3 id=\"top_critic_years_more_than_four_games\"><code>top_critic_years_more_than_four_games</code></h3>\n",
    "<table>\n",
    "<thead>\n",
    "<tr>\n",
    "<th style=\"text-align:left;\">column</th>\n",
    "<th>type</th>\n",
    "<th>meaning</th>\n",
    "</tr>\n",
    "</thead>\n",
    "<tbody>\n",
    "<tr>\n",
    "<td style=\"text-align:left;\"><code>year</code></td>\n",
    "<td>int</td>\n",
    "<td>Year of video game release</td>\n",
    "</tr>\n",
    "<tr>\n",
    "<td style=\"text-align:left;\"><code>num_games</code></td>\n",
    "<td>int</td>\n",
    "<td>Count of the number of video games released in that year</td>\n",
    "</tr>\n",
    "<tr>\n",
    "<td style=\"text-align:left;\"><code>avg_critic_score</code></td>\n",
    "<td>float</td>\n",
    "<td>Average of all critic scores for games released in that year</td>\n",
    "</tr>\n",
    "</tbody>\n",
    "</table>"
   ]
  },
  {
   "metadata": {
    "dc": {
     "key": "35"
    },
    "tags": [
     "sample_code"
    ],
    "trusted": true
   },
   "cell_type": "code",
   "source": [
    "%%sql \n",
    "\n",
    "SELECT year, avg_critic_score\n",
    "FROM top_critic_years\n",
    "EXCEPT\n",
    "SELECT year, avg_critic_score\n",
    "FROM top_critic_years_more_than_four_games\n",
    "ORDER BY avg_critic_score DESC;"
   ],
   "execution_count": 10,
   "outputs": [
    {
     "output_type": "stream",
     "text": " * postgresql:///games\n6 rows affected.\n",
     "name": "stdout"
    },
    {
     "output_type": "execute_result",
     "execution_count": 10,
     "data": {
      "text/plain": "[(1990, Decimal('9.80')),\n (1992, Decimal('9.67')),\n (2020, Decimal('9.20')),\n (1993, Decimal('9.10')),\n (1995, Decimal('9.07')),\n (1982, Decimal('9.00'))]",
      "text/html": "<table>\n    <thead>\n        <tr>\n            <th>year</th>\n            <th>avg_critic_score</th>\n        </tr>\n    </thead>\n    <tbody>\n        <tr>\n            <td>1990</td>\n            <td>9.80</td>\n        </tr>\n        <tr>\n            <td>1992</td>\n            <td>9.67</td>\n        </tr>\n        <tr>\n            <td>2020</td>\n            <td>9.20</td>\n        </tr>\n        <tr>\n            <td>1993</td>\n            <td>9.10</td>\n        </tr>\n        <tr>\n            <td>1995</td>\n            <td>9.07</td>\n        </tr>\n        <tr>\n            <td>1982</td>\n            <td>9.00</td>\n        </tr>\n    </tbody>\n</table>"
     },
     "metadata": {}
    }
   ]
  },
  {
   "metadata": {
    "dc": {
     "key": "42"
    },
    "deletable": false,
    "editable": false,
    "run_control": {
     "frozen": true
    },
    "tags": [
     "context"
    ]
   },
   "cell_type": "markdown",
   "source": [
    "## Years video game players loved\n",
    "\n",
    "<p>Let's analyze the years the players loved!!</p>"
   ]
  },
  {
   "metadata": {
    "dc": {
     "key": "42"
    },
    "tags": [
     "sample_code"
    ],
    "trusted": true
   },
   "cell_type": "code",
   "source": [
    "%%sql\n",
    "\n",
    "SELECT g.year,\n",
    "AVG(user_score) AS avg_user_score,\n",
    "COUNT(g.game) AS num_games\n",
    "FROM game_sales AS g\n",
    "INNER JOIN reviews AS r\n",
    "ON g.game = r.game\n",
    "GROUP BY year\n",
    "HAVING COUNT(year) > 4\n",
    "ORDER BY avg_user_score DESC\n",
    "LIMIT 10;"
   ],
   "execution_count": 12,
   "outputs": [
    {
     "output_type": "stream",
     "text": " * postgresql:///games\n10 rows affected.\n",
     "name": "stdout"
    },
    {
     "output_type": "execute_result",
     "execution_count": 12,
     "data": {
      "text/plain": "[(1997, Decimal('9.50'), 8),\n (1998, Decimal('9.40'), 10),\n (2010, Decimal('9.24'), 23),\n (2009, Decimal('9.18'), 20),\n (2008, Decimal('9.03'), 20),\n (1996, Decimal('9.00'), 5),\n (2005, Decimal('8.95'), 13),\n (2006, Decimal('8.95'), 16),\n (2000, Decimal('8.80'), 8),\n (1999, Decimal('8.80'), 11)]",
      "text/html": "<table>\n    <thead>\n        <tr>\n            <th>year</th>\n            <th>avg_user_score</th>\n            <th>num_games</th>\n        </tr>\n    </thead>\n    <tbody>\n        <tr>\n            <td>1997</td>\n            <td>9.50</td>\n            <td>8</td>\n        </tr>\n        <tr>\n            <td>1998</td>\n            <td>9.40</td>\n            <td>10</td>\n        </tr>\n        <tr>\n            <td>2010</td>\n            <td>9.24</td>\n            <td>23</td>\n        </tr>\n        <tr>\n            <td>2009</td>\n            <td>9.18</td>\n            <td>20</td>\n        </tr>\n        <tr>\n            <td>2008</td>\n            <td>9.03</td>\n            <td>20</td>\n        </tr>\n        <tr>\n            <td>1996</td>\n            <td>9.00</td>\n            <td>5</td>\n        </tr>\n        <tr>\n            <td>2005</td>\n            <td>8.95</td>\n            <td>13</td>\n        </tr>\n        <tr>\n            <td>2006</td>\n            <td>8.95</td>\n            <td>16</td>\n        </tr>\n        <tr>\n            <td>2000</td>\n            <td>8.80</td>\n            <td>8</td>\n        </tr>\n        <tr>\n            <td>1999</td>\n            <td>8.80</td>\n            <td>11</td>\n        </tr>\n    </tbody>\n</table>"
     },
     "metadata": {}
    }
   ]
  },
  {
   "metadata": {
    "dc": {
     "key": "49"
    },
    "deletable": false,
    "editable": false,
    "run_control": {
     "frozen": true
    },
    "tags": [
     "context"
    ]
   },
   "cell_type": "markdown",
   "source": [
    "## Years that both players and critics loved\n",
    "<p> We've got a list of the top ten years according to both critic reviews and user reviews. Let's find out the years that both players and critics loved. </p>\n",
    "\n",
    "<h3 id=\"top_critic_years_more_than_four_games\"><code>top_critic_years_more_than_four_games</code></h3>\n",
    "<table>\n",
    "<thead>\n",
    "<tr>\n",
    "<th style=\"text-align:left;\">column</th>\n",
    "<th>type</th>\n",
    "<th>meaning</th>\n",
    "</tr>\n",
    "</thead>\n",
    "<tbody>\n",
    "<tr>\n",
    "<td style=\"text-align:left;\"><code>year</code></td>\n",
    "<td>int</td>\n",
    "<td>Year of video game release</td>\n",
    "</tr>\n",
    "<tr>\n",
    "<td style=\"text-align:left;\"><code>num_games</code></td>\n",
    "<td>int</td>\n",
    "<td>Count of the number of video games released in that year</td>\n",
    "</tr>\n",
    "<tr>\n",
    "<td style=\"text-align:left;\"><code>avg_critic_score</code></td>\n",
    "<td>float</td>\n",
    "<td>Average of all critic scores for games released in that year</td>\n",
    "</tr>\n",
    "</tbody>\n",
    "</table>\n",
    "<p>We've also saved the results of our top user years query from the previous task into a table:</p>\n",
    "<h3 id=\"top_user_years_more_than_four_games\"><code>top_user_years_more_than_four_games</code></h3>\n",
    "<table>\n",
    "<thead>\n",
    "<tr>\n",
    "<th style=\"text-align:left;\">column</th>\n",
    "<th>type</th>\n",
    "<th>meaning</th>\n",
    "</tr>\n",
    "</thead>\n",
    "<tbody>\n",
    "<tr>\n",
    "<td style=\"text-align:left;\"><code>year</code></td>\n",
    "<td>int</td>\n",
    "<td>Year of video game release</td>\n",
    "</tr>\n",
    "<tr>\n",
    "<td style=\"text-align:left;\"><code>num_games</code></td>\n",
    "<td>int</td>\n",
    "<td>Count of the number of video games released in that year</td>\n",
    "</tr>\n",
    "<tr>\n",
    "<td style=\"text-align:left;\"><code>avg_user_score</code></td>\n",
    "<td>float</td>\n",
    "<td>Average of all user scores for games released in that year</td>\n",
    "</tr>\n",
    "</tbody>\n",
    "</table>"
   ]
  },
  {
   "metadata": {
    "dc": {
     "key": "49"
    },
    "tags": [
     "sample_code"
    ],
    "trusted": true
   },
   "cell_type": "code",
   "source": [
    "%%sql \n",
    "\n",
    "SELECT year\n",
    "FROM top_critic_years_more_than_four_games\n",
    "INNER JOIN top_user_years_more_than_four_games\n",
    "USING (year);\n"
   ],
   "execution_count": 14,
   "outputs": [
    {
     "output_type": "stream",
     "text": " * postgresql:///games\n3 rows affected.\n",
     "name": "stdout"
    },
    {
     "output_type": "execute_result",
     "execution_count": 14,
     "data": {
      "text/plain": "[(1998,), (2008,), (2002,)]",
      "text/html": "<table>\n    <thead>\n        <tr>\n            <th>year</th>\n        </tr>\n    </thead>\n    <tbody>\n        <tr>\n            <td>1998</td>\n        </tr>\n        <tr>\n            <td>2008</td>\n        </tr>\n        <tr>\n            <td>2002</td>\n        </tr>\n    </tbody>\n</table>"
     },
     "metadata": {}
    }
   ]
  },
  {
   "metadata": {
    "dc": {
     "key": "56"
    },
    "deletable": false,
    "editable": false,
    "run_control": {
     "frozen": true
    },
    "tags": [
     "context"
    ]
   },
   "cell_type": "markdown",
   "source": [
    "## Sales in the best video game years\n",
    "<p>Looks like we've got three years that both users and critics agreed were in the top ten! We know that critics and players liked these years, but what about video game makers?</p>"
   ]
  },
  {
   "metadata": {
    "dc": {
     "key": "56"
    },
    "tags": [
     "sample_code"
    ],
    "trusted": true
   },
   "cell_type": "code",
   "source": [
    "%%sql\n",
    "\n",
    "SELECT year,\n",
    "SUM(games_sold) AS total_games_sold\n",
    "FROM game_sales\n",
    "WHERE year IN (SELECT year\n",
    "FROM top_critic_years_more_than_four_games\n",
    "INNER JOIN top_user_years_more_than_four_games\n",
    "USING (year))\n",
    "GROUP BY year\n",
    "ORDER BY total_games_sold DESC;"
   ],
   "execution_count": 16,
   "outputs": [
    {
     "output_type": "stream",
     "text": " * postgresql:///games\n3 rows affected.\n",
     "name": "stdout"
    },
    {
     "output_type": "execute_result",
     "execution_count": 16,
     "data": {
      "text/plain": "[(2008, Decimal('175.07')),\n (1998, Decimal('101.52')),\n (2002, Decimal('58.67'))]",
      "text/html": "<table>\n    <thead>\n        <tr>\n            <th>year</th>\n            <th>total_games_sold</th>\n        </tr>\n    </thead>\n    <tbody>\n        <tr>\n            <td>2008</td>\n            <td>175.07</td>\n        </tr>\n        <tr>\n            <td>1998</td>\n            <td>101.52</td>\n        </tr>\n        <tr>\n            <td>2002</td>\n            <td>58.67</td>\n        </tr>\n    </tbody>\n</table>"
     },
     "metadata": {}
    }
   ]
  }
 ],
 "metadata": {
  "kernelspec": {
   "name": "python3",
   "display_name": "Python 3",
   "language": "python"
  },
  "language_info": {
   "name": "python",
   "version": "3.6.7",
   "mimetype": "text/x-python",
   "codemirror_mode": {
    "name": "ipython",
    "version": 3
   },
   "pygments_lexer": "ipython3",
   "nbconvert_exporter": "python",
   "file_extension": ".py"
  }
 },
 "nbformat": 4,
 "nbformat_minor": 2
}
